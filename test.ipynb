{
 "cells": [
  {
   "cell_type": "code",
   "execution_count": 1,
   "metadata": {},
   "outputs": [],
   "source": [
    "import os"
   ]
  },
  {
   "cell_type": "code",
   "execution_count": 23,
   "metadata": {},
   "outputs": [],
   "source": [
    "s = \"42369\"\n",
    "keypad = \"752961348\""
   ]
  },
  {
   "cell_type": "code",
   "execution_count": 78,
   "metadata": {},
   "outputs": [],
   "source": [
    "path = []\n",
    "keypad = \"752961348\"\n",
    "for i in range(0,9,3):\n",
    "    path.append([keypad[i],keypad[i+1],keypad[i+2]])"
   ]
  },
  {
   "cell_type": "code",
   "execution_count": 79,
   "metadata": {},
   "outputs": [
    {
     "data": {
      "text/plain": [
       "[['7', '5', '2'], ['9', '6', '1'], ['3', '4', '8']]"
      ]
     },
     "execution_count": 79,
     "metadata": {},
     "output_type": "execute_result"
    }
   ],
   "source": [
    "path"
   ]
  },
  {
   "cell_type": "code",
   "execution_count": 87,
   "metadata": {},
   "outputs": [],
   "source": [
    "def findPath(now_position,target_position,now_count,visited):\n",
    "    visited[now_position[0]][now_position[1]] = True\n",
    "    if(now_position == target_position):\n",
    "        return 0\n",
    "    # Find a neighbor\n",
    "    neighbors = []\n",
    "    matrix_len = 3\n",
    "    row = now_position[0]\n",
    "    col = now_position[1]\n",
    "    for i in range(row - 1, row + 2):\n",
    "        for j in range(col - 1, col + 2):\n",
    "            if 0 <= i < matrix_len and 0 <= j < matrix_len and (i, j) != (row, col):\n",
    "                if(not visited[i][j]):\n",
    "                    neighbors.append((i, j))\n",
    "    if(target_position in neighbors):\n",
    "        return now_count+1\n",
    "    else:\n",
    "        min_path_length = float('inf')\n",
    "        for new_position in neighbors:\n",
    "            # Recursively calculate the shortest path length from neighbor location to target location\n",
    "            path_length = findPath(new_position, target_position, now_count + 1,visited)\n",
    "            # Update minimum path length\n",
    "            min_path_length = min(min_path_length, path_length)\n",
    "        return min_path_length\n",
    "    "
   ]
  },
  {
   "cell_type": "code",
   "execution_count": 92,
   "metadata": {},
   "outputs": [
    {
     "name": "stdout",
     "output_type": "stream",
     "text": [
      "{'7': (0, 0), '5': (0, 1), '2': (0, 2), '9': (1, 0), '6': (1, 1), '1': (1, 2), '3': (2, 0), '4': (2, 1), '8': (2, 2)}\n",
      "(0, 1) (1, 2)\n",
      "5->1\n",
      "min_path:1\n",
      "(1, 2) (1, 2)\n",
      "1->1\n",
      "min_path:0\n",
      "(1, 2) (1, 2)\n",
      "1->1\n",
      "min_path:0\n",
      "1\n"
     ]
    }
   ],
   "source": [
    "def calculate_typing_time(keypad, string):\n",
    "    # Create a dictionary to map keys to their positions\n",
    "    key_positions = {}\n",
    "    for i in range(len(keypad)):\n",
    "        for j in range(len(keypad[i])):\n",
    "            key_positions[keypad[i][j]] = (i, j)\n",
    "\n",
    "    print(key_positions)\n",
    "    \n",
    "    # Calculate the minimum time to type each character\n",
    "    min_time = 0\n",
    "    for i in range(len(string)-1):\n",
    "        current_position = key_positions[string[i]]\n",
    "        previous_position = key_positions[string[i+1]]\n",
    "        visited = [[False] * 3 for _ in range(3)]  # 初始化访问状态矩阵\n",
    "        print(current_position,previous_position)\n",
    "        print(f\"{string[i]}->{string[i+1]}\")\n",
    "        min_path = findPath(current_position,previous_position,0,visited) \n",
    "        print(f\"min_path:{min_path}\")\n",
    "        min_time += min_path \n",
    "\n",
    "    return min_time\n",
    "\n",
    "# Example usage:\n",
    "keypad = [['7', '5', '2'], ['9', '6', '1'], ['3', '4', '8']]\n",
    "string = \"5111\"\n",
    "result = calculate_typing_time(keypad, string)\n",
    "print(result)"
   ]
  },
  {
   "cell_type": "code",
   "execution_count": 93,
   "metadata": {},
   "outputs": [
    {
     "name": "stdout",
     "output_type": "stream",
     "text": [
      "1\n"
     ]
    }
   ],
   "source": [
    "def min_insertions_to_palindrome(s):\n",
    "    n = len(s)\n",
    "    \n",
    "    # Create a 2D DP table \n",
    "    dp = [[0] * n for _ in range(n)]\n",
    "    \n",
    "    # Fill the DP table \n",
    "    for l in range(2, n + 1):\n",
    "        for i in range(n - l + 1):\n",
    "            j = i + l - 1\n",
    "            if s[i] == s[j]:\n",
    "                dp[i][j] = dp[i + 1][j - 1]\n",
    "            else:\n",
    "                dp[i][j] = min(dp[i + 1][j], dp[i][j - 1]) + 1\n",
    "    \n",
    "    return dp[0][n - 1]\n",
    "\n",
    "# Example usage:\n",
    "string = \"abab\"\n",
    "result = min_insertions_to_palindrome(string)\n",
    "print(result)  # Output: 2"
   ]
  },
  {
   "cell_type": "code",
   "execution_count": 148,
   "metadata": {},
   "outputs": [
    {
     "name": "stdout",
     "output_type": "stream",
     "text": [
      "{'page': 0, 'per_page': 10, 'total': 2, 'total_pages': 1, 'data': [{'title': 'Show HN: This up votes itself', 'url': 'http://news.ycombinator.com/vote?for=3742902&dir=up&whence=%6e%65%77%65%73%74', 'author': 'olalonde', 'num_comments': 83, 'story_id': None, 'story_title': None, 'story_url': None, 'parent_id': None, 'created_at': 1332463239}, {'title': None, 'url': None, 'author': 'olalonde', 'num_comments': None, 'story_id': None, 'story_title': 'Guacamole – A clientless remote desktop gateway', 'story_url': 'https://guacamole.incubator.apache.org/', 'parent_id': 6547669, 'created_at': 1381763543}]}\n"
     ]
    }
   ],
   "source": [
    "import requests\n",
    "limit = 1\n",
    "username = \"olalonde\"\n",
    "all_data = {}\n",
    "for page_number in range(limit):\n",
    "    url = f\"https://jsonmock.hackerrank.com/api/articles?author={username}&page={page_number}\"\n",
    "    try:\n",
    "        # 發送GET請求\n",
    "        response = requests.get(url)\n",
    "\n",
    "        # 檢查是否成功獲取數據\n",
    "        if response.status_code == 200:\n",
    "            # 解析JSON數據\n",
    "            data = response.json()\n",
    "            for page in range(data['total_pages']):\n",
    "                print(data)\n",
    "                if(data['data'][page]['title'] == None):\n",
    "                    key = data['data'][page]['story_title']\n",
    "                else:\n",
    "                    key = data['data'][page]['title']\n",
    "                all_data[key] = data['data'][page]['num_comments']\n",
    "        else:\n",
    "            print(\"無法獲取數據。HTTP錯誤碼：\", response.status_code)\n",
    "    except Exception as e:\n",
    "        print(\"發生錯誤：\", str(e))\n",
    "        \n",
    "# 將all_data按照評論數降序排列，如果評論數相同，按照名稱升序排列\n",
    "sorted_data = sorted(all_data.items(), key=lambda x: (-x[1], x[0]))\n",
    "result = [str(item[0]) for item in sorted_data]"
   ]
  },
  {
   "cell_type": "code",
   "execution_count": 149,
   "metadata": {},
   "outputs": [
    {
     "data": {
      "text/plain": [
       "['Show HN: This up votes itself']"
      ]
     },
     "execution_count": 149,
     "metadata": {},
     "output_type": "execute_result"
    }
   ],
   "source": [
    "result"
   ]
  },
  {
   "cell_type": "code",
   "execution_count": null,
   "metadata": {},
   "outputs": [],
   "source": []
  }
 ],
 "metadata": {
  "kernelspec": {
   "display_name": "Earthworm",
   "language": "python",
   "name": "python3"
  },
  "language_info": {
   "codemirror_mode": {
    "name": "ipython",
    "version": 3
   },
   "file_extension": ".py",
   "mimetype": "text/x-python",
   "name": "python",
   "nbconvert_exporter": "python",
   "pygments_lexer": "ipython3",
   "version": "3.8.9"
  },
  "orig_nbformat": 4
 },
 "nbformat": 4,
 "nbformat_minor": 2
}
