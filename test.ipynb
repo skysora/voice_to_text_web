{
 "cells": [
  {
   "cell_type": "code",
   "execution_count": 21,
   "metadata": {},
   "outputs": [],
   "source": [
    "import json\n",
    "from pydub import AudioSegment"
   ]
  },
  {
   "cell_type": "code",
   "execution_count": 22,
   "metadata": {},
   "outputs": [],
   "source": [
    "text_path = \"/home/sora/sora_home/voice_to_text/voice_to_text_web/web/data/speechResult/_臺灣民主國的抗日.mp3.json\"\n",
    "audio_file_path = \"/home/sora/sora_home/voice_to_text/voice_to_text_web/web/data/signal/_臺灣民主國的抗日.mp3\"\n",
    "with open(text_path) as file:\n",
    "    text_data = json.load(file)\n",
    "audio = AudioSegment.from_file(audio_file_path, format=\"mp3\")"
   ]
  },
  {
   "cell_type": "code",
   "execution_count": 36,
   "metadata": {},
   "outputs": [],
   "source": [
    "count = 0\n",
    "for phrases in text_data['recognizedPhrases']:\n",
    "    start_time = float(phrases['offsetInTicks'])/10000\n",
    "    end_time  = start_time + float(phrases['durationInTicks'])/10000\n",
    "    # 切出特定时间段的音频\n",
    "    segment = audio[start_time:end_time]\n",
    "    text = phrases['nBest'][0]['display']\n",
    "    # 保存切出的音频到新文件\n",
    "    segment.export(f\"./audio/{count}.mp3\", format=\"mp3\")\n",
    "    count+=1"
   ]
  },
  {
   "cell_type": "code",
   "execution_count": 40,
   "metadata": {},
   "outputs": [
    {
     "data": {
      "text/plain": [
       "{'recognitionStatus': 'Success',\n",
       " 'channel': 0,\n",
       " 'offset': 'PT29.57S',\n",
       " 'duration': 'PT29.2S',\n",
       " 'offsetInTicks': 295700000.0,\n",
       " 'durationInTicks': 292000000.0,\n",
       " 'nBest': [{'confidence': 0.88563925,\n",
       "   'lexical': '与 清 朝 黄 龙 起 有 何 不 同 呢 颜 色 相 反 龙 虎 相 斗 还 是 龙 兄 虎 弟 台 湾 民 主 国 什 么 时 候 成 立 的 呢 目 的 是 什 么 总 统 是 谁 结 果 又 如 何 呢',\n",
       "   'itn': '与 清 朝 黄 龙 起 有 何 不 同 呢 颜 色 相 反 龙 虎 相 斗 还 是 龙 兄 虎 弟 台 湾 民 主 国 什 么 时 候 成 立 的 呢 目 的 是 什 么 总 统 是 谁 结 果 又 如 何 呢',\n",
       "   'maskedITN': '与清朝黄龙起有何不同呢颜色相反龙虎相斗还是龙兄虎弟台湾民主国什么时候成立的呢目的是什么总统是谁结果又如何呢',\n",
       "   'display': '与清朝黄龙起有何不同呢？颜色相反，龙虎相斗，还是龙兄虎弟，台湾民主国什么时候成立的呢？目的是什么？总统是谁？结果又如何呢？'},\n",
       "  {'confidence': 0.8884433,\n",
       "   'lexical': '与清朝黄龙起有何不同呢颜色相反龙虎相斗还是龙生虎地台湾民主国什么时候成立的呢目的是什么总统是谁结果又如何呢',\n",
       "   'itn': '与清朝黄龙起有何不同呢颜色相反龙虎相斗还是龙生虎地台湾民主国什么时候成立的呢目的是什么总统是谁结果又如何呢',\n",
       "   'maskedITN': '与清朝黄龙起有何不同呢颜色相反龙虎相斗还是龙生虎地台湾民主国什么时候成立的呢目的是什么总统是谁结果又如何呢',\n",
       "   'display': '与清朝黄龙起有何不同呢颜色相反龙虎相斗还是龙生虎地台湾民主国什么时候成立的呢目的是什么总统是谁结果又如何呢'},\n",
       "  {'confidence': 0.88194484,\n",
       "   'lexical': '与清朝黄龙旗有何不同呢颜色相反龙虎相斗还是龙兄虎弟台湾民主国什么时候成立的呢目的是什么总统是谁结果又如何呢',\n",
       "   'itn': '与清朝黄龙旗有何不同呢颜色相反龙虎相斗还是龙兄虎弟台湾民主国什么时候成立的呢目的是什么总统是谁结果又如何呢',\n",
       "   'maskedITN': '与清朝黄龙旗有何不同呢颜色相反龙虎相斗还是龙兄虎弟台湾民主国什么时候成立的呢目的是什么总统是谁结果又如何呢',\n",
       "   'display': '与清朝黄龙旗有何不同呢颜色相反龙虎相斗还是龙兄虎弟台湾民主国什么时候成立的呢目的是什么总统是谁结果又如何呢'},\n",
       "  {'confidence': 0.8847489,\n",
       "   'lexical': '与清朝黄龙旗有何不同呢颜色相反龙虎相斗还是龙生虎地台湾民主国什么时候成立的呢目的是什么总统是谁结果又如何呢',\n",
       "   'itn': '与清朝黄龙旗有何不同呢颜色相反龙虎相斗还是龙生虎地台湾民主国什么时候成立的呢目的是什么总统是谁结果又如何呢',\n",
       "   'maskedITN': '与清朝黄龙旗有何不同呢颜色相反龙虎相斗还是龙生虎地台湾民主国什么时候成立的呢目的是什么总统是谁结果又如何呢',\n",
       "   'display': '与清朝黄龙旗有何不同呢颜色相反龙虎相斗还是龙生虎地台湾民主国什么时候成立的呢目的是什么总统是谁结果又如何呢'},\n",
       "  {'confidence': 0.8841129,\n",
       "   'lexical': '与清朝黄龙起有何不同呢颜色相反龙虎相斗还是龙生虎的台湾民主国什么时候成立的呢目的是什么总统是谁结果又如何呢',\n",
       "   'itn': '与清朝黄龙起有何不同呢颜色相反龙虎相斗还是龙生虎的台湾民主国什么时候成立的呢目的是什么总统是谁结果又如何呢',\n",
       "   'maskedITN': '与清朝黄龙起有何不同呢颜色相反龙虎相斗还是龙生虎的台湾民主国什么时候成立的呢目的是什么总统是谁结果又如何呢',\n",
       "   'display': '与清朝黄龙起有何不同呢颜色相反龙虎相斗还是龙生虎的台湾民主国什么时候成立的呢目的是什么总统是谁结果又如何呢'}]}"
      ]
     },
     "execution_count": 40,
     "metadata": {},
     "output_type": "execute_result"
    }
   ],
   "source": [
    "text_data['recognizedPhrases'][1]"
   ]
  },
  {
   "cell_type": "code",
   "execution_count": null,
   "metadata": {},
   "outputs": [],
   "source": []
  }
 ],
 "metadata": {
  "kernelspec": {
   "display_name": "Earthworm",
   "language": "python",
   "name": "python3"
  },
  "language_info": {
   "codemirror_mode": {
    "name": "ipython",
    "version": 3
   },
   "file_extension": ".py",
   "mimetype": "text/x-python",
   "name": "python",
   "nbconvert_exporter": "python",
   "pygments_lexer": "ipython3",
   "version": "3.8.9"
  },
  "orig_nbformat": 4
 },
 "nbformat": 4,
 "nbformat_minor": 2
}
