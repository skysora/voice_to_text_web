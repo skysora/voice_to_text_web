{
 "cells": [
  {
   "cell_type": "code",
   "execution_count": 21,
   "metadata": {},
   "outputs": [],
   "source": [
    "import json\n",
    "from pydub import AudioSegment"
   ]
  },
  {
   "cell_type": "code",
   "execution_count": 22,
   "metadata": {},
   "outputs": [],
   "source": [
    "text_path = \"/home/sora/sora_home/voice_to_text/voice_to_text_web/web/data/speechResult/_臺灣民主國的抗日.mp3.json\"\n",
    "audio_file_path = \"/home/sora/sora_home/voice_to_text/voice_to_text_web/web/data/signal/_臺灣民主國的抗日.mp3\"\n",
    "with open(text_path) as file:\n",
    "    text_data = json.load(file)\n",
    "audio = AudioSegment.from_file(audio_file_path, format=\"mp3\")"
   ]
  },
  {
   "cell_type": "code",
   "execution_count": 36,
   "metadata": {},
   "outputs": [],
   "source": [
    "count = 0\n",
    "for phrases in text_data['recognizedPhrases']:\n",
    "    start_time = float(phrases['offsetInTicks'])/10000\n",
    "    end_time  = start_time + float(phrases['durationInTicks'])/10000\n",
    "    # 切出特定时间段的音频\n",
    "    segment = audio[start_time:end_time]\n",
    "    text = phrases['nBest'][0]['display']\n",
    "    # 保存切出的音频到新文件\n",
    "    segment.export(f\"./audio/{count}.mp3\", format=\"mp3\")\n",
    "    count+=1"
   ]
  },
  {
   "cell_type": "code",
   "execution_count": 4,
   "metadata": {},
   "outputs": [],
   "source": [
    "import zipfile\n",
    "import os"
   ]
  },
  {
   "cell_type": "code",
   "execution_count": 12,
   "metadata": {},
   "outputs": [
    {
     "name": "stdout",
     "output_type": "stream",
     "text": [
      "/home/sora/sora_home/voice_to_text/voice_to_text_web/web/data/output/108新課綱｜高三化學｜【觀念】零級反應.mp3.txt\n",
      "/home/sora/sora_home/voice_to_text/voice_to_text_web/web/data/output/108新課綱｜高三物理｜繩波的反射與透射.mp3.txt\n",
      "/home/sora/sora_home/voice_to_text/voice_to_text_web/web/data/output/小一國語｜標音符號｜一不小心就會念錯.wav.txt\n",
      "0\n"
     ]
    }
   ],
   "source": [
    "file_list = ['108新課綱｜高三化學｜【觀念】零級反應.mp3.txt','108新課綱｜高三物理｜繩波的反射與透射.mp3.txt','小一國語｜標音符號｜一不小心就會念錯.wav.txt']\n",
    "TEXT_OUTPUT =\"/home/sora/sora_home/voice_to_text/voice_to_text_web/web/data/output/\"\n",
    "zip_file_path=\"temp.zip\"\n",
    "flag=0\n",
    "with zipfile.ZipFile(zip_file_path, 'w', zipfile.ZIP_DEFLATED) as zipf:\n",
    "    for file_name in file_list:\n",
    "        output_file_path = f\"{TEXT_OUTPUT}{file_name}\"\n",
    "        print(output_file_path)\n",
    "        if os.path.exists(output_file_path):\n",
    "            zipf.write(output_file_path, os.path.basename(output_file_path))\n",
    "        else:\n",
    "            flag += 1\n",
    "print(flag)"
   ]
  },
  {
   "cell_type": "code",
   "execution_count": null,
   "metadata": {},
   "outputs": [],
   "source": []
  }
 ],
 "metadata": {
  "kernelspec": {
   "display_name": "Earthworm",
   "language": "python",
   "name": "python3"
  },
  "language_info": {
   "codemirror_mode": {
    "name": "ipython",
    "version": 3
   },
   "file_extension": ".py",
   "mimetype": "text/x-python",
   "name": "python",
   "nbconvert_exporter": "python",
   "pygments_lexer": "ipython3",
   "version": "3.8.9"
  },
  "orig_nbformat": 4
 },
 "nbformat": 4,
 "nbformat_minor": 2
}
